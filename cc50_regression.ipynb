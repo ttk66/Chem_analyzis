{
  "nbformat": 4,
  "nbformat_minor": 0,
  "metadata": {
    "colab": {
      "provenance": [],
      "name": "cc50_regression.ipynb",
      "authorship_tag": "ABX9TyPqN+ei5q7t7NwZB/ReI+Pm",
      "include_colab_link": true
    },
    "kernelspec": {
      "name": "python3",
      "display_name": "Python 3"
    },
    "language_info": {
      "name": "python"
    }
  },
  "cells": [
    {
      "cell_type": "markdown",
      "metadata": {
        "id": "view-in-github",
        "colab_type": "text"
      },
      "source": [
        "<a href=\"https://colab.research.google.com/github/ttk66/Chem_analyzis/blob/main/cc50_regression.ipynb\" target=\"_parent\"><img src=\"https://colab.research.google.com/assets/colab-badge.svg\" alt=\"Open In Colab\"/></a>"
      ]
    },
    {
      "cell_type": "code",
      "execution_count": 2,
      "metadata": {
        "colab": {
          "base_uri": "https://localhost:8080/"
        },
        "id": "VjvAnfVcetds",
        "outputId": "979d85e3-4b18-49e5-d8d7-b1fb1d7c43a2"
      },
      "outputs": [
        {
          "output_type": "stream",
          "name": "stdout",
          "text": [
            "\n",
            "Linear Regression\n",
            "RMSE (лог-шкала): 1.3592350454400313\n",
            "R² (лог-шкала): 0.18765639026074543\n",
            "\n",
            "Ridge\n",
            "Лучшие параметры: {'alpha': 10.0}\n",
            "RMSE (лог-шкала): 1.2036295779524968\n",
            "R² (лог-шкала): 0.3630045290312056\n",
            "\n",
            "Lasso\n",
            "Лучшие параметры: {'alpha': 0.1}\n",
            "RMSE (лог-шкала): 1.2636445480600038\n",
            "R² (лог-шкала): 0.2978975356952076\n",
            "\n",
            "Random Forest\n",
            "Лучшие параметры: {'max_depth': 20, 'n_estimators': 200}\n",
            "RMSE (лог-шкала): 1.11734965529724\n",
            "R² (лог-шкала): 0.4510549918764829\n",
            "\n",
            "Gradient Boosting\n",
            "Лучшие параметры: {'learning_rate': 0.05, 'max_depth': 3, 'n_estimators': 200}\n",
            "RMSE (лог-шкала): 1.1503392837860171\n",
            "R² (лог-шкала): 0.4181613811927206\n",
            "\n",
            "HistGradientBoosting\n",
            "Лучшие параметры: {'learning_rate': 0.05, 'max_iter': 100}\n",
            "RMSE (лог-шкала): 1.1591689756119818\n",
            "R² (лог-шкала): 0.4091950307840856\n",
            "\n",
            "XGBoost\n",
            "Лучшие параметры: {'learning_rate': 0.05, 'max_depth': 6, 'n_estimators': 100}\n",
            "RMSE (лог-шкала): 1.197428205733644\n",
            "R² (лог-шкала): 0.36955150961102734\n"
          ]
        }
      ],
      "source": [
        "import pandas as pd\n",
        "import numpy as np\n",
        "from sklearn.model_selection import train_test_split, GridSearchCV\n",
        "from sklearn.preprocessing import StandardScaler\n",
        "from sklearn.linear_model import LinearRegression, Ridge, Lasso\n",
        "from sklearn.ensemble import RandomForestRegressor, GradientBoostingRegressor, HistGradientBoostingRegressor\n",
        "from sklearn.svm import SVR\n",
        "from xgboost import XGBRegressor\n",
        "from sklearn.metrics import mean_squared_error, r2_score\n",
        "\n",
        "# Загрузка данных\n",
        "df = pd.read_csv(\"/content/final_filtered_data.csv\")\n",
        "X = df.drop(columns=[\"IC50\", \"CC50\", \"SI\", \"log_IC50\", \"log_CC50\", \"log_SI\"])\n",
        "y = df[\"log_CC50\"]\n",
        "\n",
        "# Масштабирование\n",
        "X_scaled = StandardScaler().fit_transform(X)\n",
        "X_train, X_test, y_train, y_test = train_test_split(X_scaled, y, test_size=0.2, random_state=42)\n",
        "\n",
        "# Модели и параметры\n",
        "model_configs = {\n",
        "    \"Linear Regression\": (LinearRegression(), {}),\n",
        "    \"Ridge\": (Ridge(), {\"alpha\": [0.1, 1.0, 10.0]}),\n",
        "    \"Lasso\": (Lasso(), {\"alpha\": [0.001, 0.01, 0.1, 1.0]}),\n",
        "    \"Random Forest\": (RandomForestRegressor(random_state=42), {\n",
        "        \"n_estimators\": [100, 200],\n",
        "        \"max_depth\": [None, 10, 20]\n",
        "    }),\n",
        "    \"Gradient Boosting\": (GradientBoostingRegressor(random_state=42), {\n",
        "        \"n_estimators\": [100, 200],\n",
        "        \"learning_rate\": [0.05, 0.1],\n",
        "        \"max_depth\": [3, 5]\n",
        "    }),\n",
        "    \"HistGradientBoosting\": (HistGradientBoostingRegressor(random_state=42), {\n",
        "        \"learning_rate\": [0.05, 0.1],\n",
        "        \"max_iter\": [100, 200]\n",
        "    }),\n",
        "    \"XGBoost\": (XGBRegressor(random_state=42, objective='reg:squarederror'), {\n",
        "        \"n_estimators\": [100, 200],\n",
        "        \"max_depth\": [3, 6],\n",
        "        \"learning_rate\": [0.05, 0.1]\n",
        "    }),\n",
        "}\n",
        "# Обучение и оценка\n",
        "for name, (model, params) in model_configs.items():\n",
        "    if params:\n",
        "        model = GridSearchCV(model, params, cv=3, scoring=\"neg_root_mean_squared_error\", n_jobs=-1)\n",
        "    model.fit(X_train, y_train)\n",
        "    y_pred_log = model.predict(X_test)\n",
        "\n",
        "    print(f\"\\n{name}\")\n",
        "    if isinstance(model, GridSearchCV):\n",
        "        print(\"Лучшие параметры:\", model.best_params_)\n",
        "    print(\"RMSE (лог-шкала):\", np.sqrt(mean_squared_error(y_test, y_pred_log)))\n",
        "    print(\"R² (лог-шкала):\", r2_score(y_test, y_pred_log))"
      ]
    }
  ]
}