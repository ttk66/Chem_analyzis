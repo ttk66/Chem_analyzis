{
  "nbformat": 4,
  "nbformat_minor": 0,
  "metadata": {
    "colab": {
      "provenance": [],
      "authorship_tag": "ABX9TyOMFe6FFVXcTNHd2P2tAWlg",
      "include_colab_link": true
    },
    "kernelspec": {
      "name": "python3",
      "display_name": "Python 3"
    },
    "language_info": {
      "name": "python"
    }
  },
  "cells": [
    {
      "cell_type": "markdown",
      "metadata": {
        "id": "view-in-github",
        "colab_type": "text"
      },
      "source": [
        "<a href=\"https://colab.research.google.com/github/ttk66/Chem_analyzis/blob/main/SI%3E8_classification.ipynb\" target=\"_parent\"><img src=\"https://colab.research.google.com/assets/colab-badge.svg\" alt=\"Open In Colab\"/></a>"
      ]
    },
    {
      "cell_type": "code",
      "execution_count": 5,
      "metadata": {
        "colab": {
          "base_uri": "https://localhost:8080/"
        },
        "id": "IK30SQ3Vky7x",
        "outputId": "7fd192ac-8f3d-4b58-90c8-8ad6612c4043"
      },
      "outputs": [
        {
          "output_type": "stream",
          "name": "stdout",
          "text": [
            "\n",
            "Задача: log_SI > ln(8), Модель: Logistic Regression\n",
            "Accuracy: 0.681592039800995\n",
            "Precision: 0.578125\n",
            "Recall: 0.5\n",
            "F1 Score: 0.5362318840579711\n",
            "ROC AUC: 0.6870610768248564\n",
            "              precision    recall  f1-score   support\n",
            "\n",
            "     Class 0       0.73      0.79      0.76       127\n",
            "     Class 1       0.58      0.50      0.54        74\n",
            "\n",
            "    accuracy                           0.68       201\n",
            "   macro avg       0.65      0.64      0.65       201\n",
            "weighted avg       0.67      0.68      0.68       201\n",
            "\n",
            "\n",
            "Задача: log_SI > ln(8), Модель: Random Forest\n",
            "Accuracy: 0.7213930348258707\n",
            "Precision: 0.6607142857142857\n",
            "Recall: 0.5\n",
            "F1 Score: 0.5692307692307692\n",
            "ROC AUC: 0.7204724409448819\n",
            "              precision    recall  f1-score   support\n",
            "\n",
            "     Class 0       0.74      0.85      0.79       127\n",
            "     Class 1       0.66      0.50      0.57        74\n",
            "\n",
            "    accuracy                           0.72       201\n",
            "   macro avg       0.70      0.68      0.68       201\n",
            "weighted avg       0.71      0.72      0.71       201\n",
            "\n",
            "\n",
            "Задача: log_SI > ln(8), Модель: XGBoost\n",
            "Accuracy: 0.7064676616915423\n",
            "Precision: 0.6119402985074627\n",
            "Recall: 0.5540540540540541\n",
            "F1 Score: 0.5815602836879432\n",
            "ROC AUC: 0.7278144286018301\n",
            "              precision    recall  f1-score   support\n",
            "\n",
            "     Class 0       0.75      0.80      0.77       127\n",
            "     Class 1       0.61      0.55      0.58        74\n",
            "\n",
            "    accuracy                           0.71       201\n",
            "   macro avg       0.68      0.67      0.68       201\n",
            "weighted avg       0.70      0.71      0.70       201\n",
            "\n"
          ]
        }
      ],
      "source": [
        "import pandas as pd\n",
        "import numpy as np\n",
        "from sklearn.model_selection import train_test_split\n",
        "from sklearn.preprocessing import StandardScaler\n",
        "from sklearn.metrics import (\n",
        "    accuracy_score, precision_score, recall_score, f1_score, roc_auc_score, classification_report\n",
        ")\n",
        "from sklearn.linear_model import LogisticRegression\n",
        "from sklearn.ensemble import RandomForestClassifier\n",
        "from xgboost import XGBClassifier\n",
        "\n",
        "import warnings\n",
        "warnings.filterwarnings(\"ignore\")\n",
        "\n",
        "df = pd.read_csv(\"final_filtered_data.csv\")\n",
        "df.fillna(df.median(numeric_only=True), inplace=True)\n",
        "\n",
        "threshold = np.log(8)  # около 2.08\n",
        "target = (df[\"log_SI\"] > threshold).astype(int)\n",
        "feature_cols = df.select_dtypes(include=[np.number]).drop(columns=[\"IC50\", \"CC50\", \"SI\", \"log_IC50\", \"log_CC50\", \"log_SI\"]).columns\n",
        "X = df[feature_cols]\n",
        "\n",
        "scaler = StandardScaler()\n",
        "X_scaled = scaler.fit_transform(X)\n",
        "\n",
        "X_train, X_test, y_train, y_test = train_test_split(X_scaled, target, test_size=0.2, random_state=42)\n",
        "\n",
        "models = {\n",
        "    \"Logistic Regression\": LogisticRegression(),\n",
        "    \"Random Forest\": RandomForestClassifier(random_state=42),\n",
        "    \"XGBoost\": XGBClassifier(use_label_encoder=False, eval_metric='logloss', random_state=42)\n",
        "}\n",
        "\n",
        "for model_name, model in models.items():\n",
        "    model.fit(X_train, y_train)\n",
        "    y_pred = model.predict(X_test)\n",
        "    y_proba = model.predict_proba(X_test)[:, 1] if hasattr(model, \"predict_proba\") else y_pred\n",
        "\n",
        "    print(f\"\\nЗадача: log_SI > ln(8), Модель: {model_name}\")\n",
        "    print(\"Accuracy:\", accuracy_score(y_test, y_pred))\n",
        "    print(\"Precision:\", precision_score(y_test, y_pred))\n",
        "    print(\"Recall:\", recall_score(y_test, y_pred))\n",
        "    print(\"F1 Score:\", f1_score(y_test, y_pred))\n",
        "    print(\"ROC AUC:\", roc_auc_score(y_test, y_proba))\n",
        "    print(classification_report(y_test, y_pred, target_names=[\"Class 0\", \"Class 1\"]))"
      ]
    }
  ]
}