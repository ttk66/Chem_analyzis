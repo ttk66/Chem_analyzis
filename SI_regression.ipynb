{
  "nbformat": 4,
  "nbformat_minor": 0,
  "metadata": {
    "colab": {
      "provenance": [],
      "authorship_tag": "ABX9TyOQFP9CtcWzw8wBejd6OC/4",
      "include_colab_link": true
    },
    "kernelspec": {
      "name": "python3",
      "display_name": "Python 3"
    },
    "language_info": {
      "name": "python"
    }
  },
  "cells": [
    {
      "cell_type": "markdown",
      "metadata": {
        "id": "view-in-github",
        "colab_type": "text"
      },
      "source": [
        "<a href=\"https://colab.research.google.com/github/ttk66/Chem_analyzis/blob/main/SI_regression.ipynb\" target=\"_parent\"><img src=\"https://colab.research.google.com/assets/colab-badge.svg\" alt=\"Open In Colab\"/></a>"
      ]
    },
    {
      "cell_type": "code",
      "execution_count": 10,
      "metadata": {
        "colab": {
          "base_uri": "https://localhost:8080/"
        },
        "id": "VjvAnfVcetds",
        "outputId": "4939622d-3001-49ed-d469-92c678746c91"
      },
      "outputs": [
        {
          "output_type": "stream",
          "name": "stdout",
          "text": [
            "\n",
            "Linear Regression\n",
            "RMSE: 1.5629909709181435\n",
            "R²: -0.009476605794399351\n",
            "\n",
            "Random Forest\n",
            "RMSE: 1.2784230420274252\n",
            "R²: 0.324644408706357\n",
            "\n",
            "XGBoost\n",
            "RMSE: 1.3818388298618849\n",
            "R²: 0.21096166275824413\n"
          ]
        }
      ],
      "source": [
        "import pandas as pd\n",
        "import numpy as np\n",
        "from sklearn.model_selection import train_test_split\n",
        "from sklearn.preprocessing import StandardScaler\n",
        "from sklearn.linear_model import LinearRegression\n",
        "from sklearn.ensemble import RandomForestRegressor\n",
        "from xgboost import XGBRegressor\n",
        "from sklearn.metrics import mean_squared_error, r2_score\n",
        "\n",
        "df = pd.read_csv(\"/content/final_filtered_data.csv\")\n",
        "\n",
        "X = df.drop(columns=[\"IC50\", \"CC50\", \"SI\", \"log_IC50\", \"log_CC50\", \"log_SI\"])\n",
        "y = df[\"log_SI\"]\n",
        "\n",
        "X_scaled = StandardScaler().fit_transform(X)\n",
        "X_train, X_test, y_train, y_test = train_test_split(X_scaled, y, test_size=0.2, random_state=42)\n",
        "\n",
        "models = {\n",
        "    \"Linear Regression\": LinearRegression(),\n",
        "    \"Random Forest\": RandomForestRegressor(random_state=42),\n",
        "    \"XGBoost\": XGBRegressor(random_state=42)\n",
        "}\n",
        "\n",
        "for name, model in models.items():\n",
        "    model.fit(X_train, y_train)\n",
        "    y_pred = model.predict(X_test)\n",
        "    print(f\"\\n{name}\")\n",
        "    print(\"RMSE:\", np.sqrt(mean_squared_error(y_test, y_pred)))\n",
        "    print(\"R²:\", r2_score(y_test, y_pred))"
      ]
    }
  ]
}