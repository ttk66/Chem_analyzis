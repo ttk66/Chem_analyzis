{
  "nbformat": 4,
  "nbformat_minor": 0,
  "metadata": {
    "colab": {
      "provenance": [],
      "authorship_tag": "ABX9TyOt/t3qKz92rVZu0Cwdah1r",
      "include_colab_link": true
    },
    "kernelspec": {
      "name": "python3",
      "display_name": "Python 3"
    },
    "language_info": {
      "name": "python"
    }
  },
  "cells": [
    {
      "cell_type": "markdown",
      "metadata": {
        "id": "view-in-github",
        "colab_type": "text"
      },
      "source": [
        "<a href=\"https://colab.research.google.com/github/ttk66/Chem_analyzis/blob/main/ic50_regression.ipynb\" target=\"_parent\"><img src=\"https://colab.research.google.com/assets/colab-badge.svg\" alt=\"Open In Colab\"/></a>"
      ]
    },
    {
      "cell_type": "code",
      "execution_count": null,
      "metadata": {
        "colab": {
          "base_uri": "https://localhost:8080/"
        },
        "id": "VjvAnfVcetds",
        "outputId": "82bbb349-5ca9-4d11-f9e9-8aa81c42adcd"
      },
      "outputs": [
        {
          "output_type": "stream",
          "name": "stdout",
          "text": [
            "\n",
            "Linear Regression\n",
            "RMSE (лог-шкала): 1.8085605424901117\n",
            "R² (лог-шкала): 0.15023677304158567\n",
            "\n",
            "Ridge\n",
            "Лучшие параметры: {'alpha': 10.0}\n",
            "RMSE (лог-шкала): 1.618915088475444\n",
            "R² (лог-шкала): 0.3191052718100309\n",
            "\n",
            "Lasso\n",
            "Лучшие параметры: {'alpha': 0.1}\n",
            "RMSE (лог-шкала): 1.685312243119321\n",
            "R² (лог-шкала): 0.2621083740960283\n",
            "\n",
            "Random Forest\n",
            "Лучшие параметры: {'max_depth': 20, 'n_estimators': 200}\n",
            "RMSE (лог-шкала): 1.453926380065631\n",
            "R² (лог-шкала): 0.4508175337116427\n",
            "\n",
            "Gradient Boosting\n",
            "Лучшие параметры: {'learning_rate': 0.05, 'max_depth': 3, 'n_estimators': 200}\n",
            "RMSE (лог-шкала): 1.4743499093162435\n",
            "R² (лог-шкала): 0.43528026514111096\n",
            "\n",
            "HistGradientBoosting\n",
            "Лучшие параметры: {'learning_rate': 0.05, 'max_iter': 100}\n",
            "RMSE (лог-шкала): 1.4837150442200688\n",
            "R² (лог-шкала): 0.42808323081685107\n",
            "\n",
            "XGBoost\n",
            "Лучшие параметры: {'learning_rate': 0.05, 'max_depth': 3, 'n_estimators': 200}\n",
            "RMSE (лог-шкала): 1.4694373561052305\n",
            "R² (лог-шкала): 0.43903730255495454\n"
          ]
        }
      ],
      "source": [
        "import pandas as pd\n",
        "import numpy as np\n",
        "from sklearn.model_selection import train_test_split, GridSearchCV\n",
        "from sklearn.preprocessing import StandardScaler\n",
        "from sklearn.linear_model import LinearRegression, Ridge, Lasso\n",
        "from sklearn.ensemble import RandomForestRegressor, GradientBoostingRegressor, HistGradientBoostingRegressor\n",
        "from sklearn.svm import SVR\n",
        "from xgboost import XGBRegressor\n",
        "from sklearn.metrics import mean_squared_error, r2_score\n",
        "\n",
        "# Загрузка данных\n",
        "df = pd.read_csv(\"/content/final_filtered_data.csv\")\n",
        "X = df.drop(columns=[\"IC50\", \"CC50\", \"SI\", \"log_IC50\", \"log_CC50\", \"log_SI\"])\n",
        "y = df[\"log_IC50\"]\n",
        "\n",
        "# Масштабирование\n",
        "X_scaled = StandardScaler().fit_transform(X)\n",
        "X_train, X_test, y_train, y_test = train_test_split(X_scaled, y, test_size=0.2, random_state=42)\n",
        "\n",
        "# Модели и параметры\n",
        "model_configs = {\n",
        "    \"Linear Regression\": (LinearRegression(), {}),\n",
        "    \"Ridge\": (Ridge(), {\"alpha\": [0.1, 1.0, 10.0]}),\n",
        "    \"Lasso\": (Lasso(), {\"alpha\": [0.001, 0.01, 0.1, 1.0]}),\n",
        "    \"Random Forest\": (RandomForestRegressor(random_state=42), {\n",
        "        \"n_estimators\": [100, 200],\n",
        "        \"max_depth\": [None, 10, 20]\n",
        "    }),\n",
        "    \"Gradient Boosting\": (GradientBoostingRegressor(random_state=42), {\n",
        "        \"n_estimators\": [100, 200],\n",
        "        \"learning_rate\": [0.05, 0.1],\n",
        "        \"max_depth\": [3, 5]\n",
        "    }),\n",
        "    \"HistGradientBoosting\": (HistGradientBoostingRegressor(random_state=42), {\n",
        "        \"learning_rate\": [0.05, 0.1],\n",
        "        \"max_iter\": [100, 200]\n",
        "    }),\n",
        "    \"XGBoost\": (XGBRegressor(random_state=42, objective='reg:squarederror'), {\n",
        "        \"n_estimators\": [100, 200],\n",
        "        \"max_depth\": [3, 6],\n",
        "        \"learning_rate\": [0.05, 0.1]\n",
        "    }),\n",
        "}\n",
        "# Обучение и оценка\n",
        "for name, (model, params) in model_configs.items():\n",
        "    if params:\n",
        "        model = GridSearchCV(model, params, cv=3, scoring=\"neg_root_mean_squared_error\", n_jobs=-1)\n",
        "    model.fit(X_train, y_train)\n",
        "    y_pred_log = model.predict(X_test)\n",
        "\n",
        "    print(f\"\\n{name}\")\n",
        "    if isinstance(model, GridSearchCV):\n",
        "        print(\"Лучшие параметры:\", model.best_params_)\n",
        "    print(\"RMSE (лог-шкала):\", np.sqrt(mean_squared_error(y_test, y_pred_log)))\n",
        "    print(\"R² (лог-шкала):\", r2_score(y_test, y_pred_log))"
      ]
    }
  ]
}