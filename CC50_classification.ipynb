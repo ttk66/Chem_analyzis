{
  "nbformat": 4,
  "nbformat_minor": 0,
  "metadata": {
    "colab": {
      "provenance": [],
      "authorship_tag": "ABX9TyN04Ik1kmby4Z4za22l9BbB",
      "include_colab_link": true
    },
    "kernelspec": {
      "name": "python3",
      "display_name": "Python 3"
    },
    "language_info": {
      "name": "python"
    }
  },
  "cells": [
    {
      "cell_type": "markdown",
      "metadata": {
        "id": "view-in-github",
        "colab_type": "text"
      },
      "source": [
        "<a href=\"https://colab.research.google.com/github/ttk66/Chem_analyzis/blob/main/CC50_classification.ipynb\" target=\"_parent\"><img src=\"https://colab.research.google.com/assets/colab-badge.svg\" alt=\"Open In Colab\"/></a>"
      ]
    },
    {
      "cell_type": "code",
      "execution_count": 4,
      "metadata": {
        "colab": {
          "base_uri": "https://localhost:8080/"
        },
        "id": "IK30SQ3Vky7x",
        "outputId": "ac12043e-30d2-4146-9da7-fe1b2f7614d2"
      },
      "outputs": [
        {
          "output_type": "stream",
          "name": "stdout",
          "text": [
            "\n",
            "Задача: log_CC50 > median, Модель: Logistic Regression\n",
            "Accuracy: 0.7562189054726368\n",
            "Precision: 0.78\n",
            "Recall: 0.7428571428571429\n",
            "F1 Score: 0.7609756097560976\n",
            "ROC AUC: 0.8507440476190476\n",
            "              precision    recall  f1-score   support\n",
            "\n",
            "     Class 0       0.73      0.77      0.75        96\n",
            "     Class 1       0.78      0.74      0.76       105\n",
            "\n",
            "    accuracy                           0.76       201\n",
            "   macro avg       0.76      0.76      0.76       201\n",
            "weighted avg       0.76      0.76      0.76       201\n",
            "\n",
            "\n",
            "Задача: log_CC50 > median, Модель: Random Forest\n",
            "Accuracy: 0.8009950248756219\n",
            "Precision: 0.8651685393258427\n",
            "Recall: 0.7333333333333333\n",
            "F1 Score: 0.7938144329896907\n",
            "ROC AUC: 0.877827380952381\n",
            "              precision    recall  f1-score   support\n",
            "\n",
            "     Class 0       0.75      0.88      0.81        96\n",
            "     Class 1       0.87      0.73      0.79       105\n",
            "\n",
            "    accuracy                           0.80       201\n",
            "   macro avg       0.81      0.80      0.80       201\n",
            "weighted avg       0.81      0.80      0.80       201\n",
            "\n",
            "\n",
            "Задача: log_CC50 > median, Модель: XGBoost\n",
            "Accuracy: 0.8059701492537313\n",
            "Precision: 0.8586956521739131\n",
            "Recall: 0.7523809523809524\n",
            "F1 Score: 0.8020304568527918\n",
            "ROC AUC: 0.8772321428571429\n",
            "              precision    recall  f1-score   support\n",
            "\n",
            "     Class 0       0.76      0.86      0.81        96\n",
            "     Class 1       0.86      0.75      0.80       105\n",
            "\n",
            "    accuracy                           0.81       201\n",
            "   macro avg       0.81      0.81      0.81       201\n",
            "weighted avg       0.81      0.81      0.81       201\n",
            "\n"
          ]
        }
      ],
      "source": [
        "import pandas as pd\n",
        "import numpy as np\n",
        "from sklearn.model_selection import train_test_split\n",
        "from sklearn.preprocessing import StandardScaler\n",
        "from sklearn.metrics import (\n",
        "    accuracy_score, precision_score, recall_score, f1_score, roc_auc_score, classification_report\n",
        ")\n",
        "from sklearn.linear_model import LogisticRegression\n",
        "from sklearn.ensemble import RandomForestClassifier\n",
        "from xgboost import XGBClassifier\n",
        "\n",
        "import warnings\n",
        "warnings.filterwarnings(\"ignore\")\n",
        "\n",
        "df = pd.read_csv(\"final_filtered_data.csv\")\n",
        "df.fillna(df.median(numeric_only=True), inplace=True)\n",
        "\n",
        "target = (df[\"log_CC50\"] > df[\"log_CC50\"].median()).astype(int)\n",
        "feature_cols = df.select_dtypes(include=[np.number]).drop(columns=[\"IC50\", \"CC50\", \"SI\", \"log_IC50\", \"log_CC50\", \"log_SI\"]).columns\n",
        "X = df[feature_cols]\n",
        "\n",
        "scaler = StandardScaler()\n",
        "X_scaled = scaler.fit_transform(X)\n",
        "\n",
        "X_train, X_test, y_train, y_test = train_test_split(X_scaled, target, test_size=0.2, random_state=42)\n",
        "\n",
        "models = {\n",
        "    \"Logistic Regression\": LogisticRegression(),\n",
        "    \"Random Forest\": RandomForestClassifier(random_state=42),\n",
        "    \"XGBoost\": XGBClassifier(use_label_encoder=False, eval_metric='logloss', random_state=42)\n",
        "}\n",
        "\n",
        "for model_name, model in models.items():\n",
        "    model.fit(X_train, y_train)\n",
        "    y_pred = model.predict(X_test)\n",
        "    y_proba = model.predict_proba(X_test)[:, 1] if hasattr(model, \"predict_proba\") else y_pred\n",
        "\n",
        "    print(f\"\\nЗадача: log_CC50 > median, Модель: {model_name}\")\n",
        "    print(\"Accuracy:\", accuracy_score(y_test, y_pred))\n",
        "    print(\"Precision:\", precision_score(y_test, y_pred))\n",
        "    print(\"Recall:\", recall_score(y_test, y_pred))\n",
        "    print(\"F1 Score:\", f1_score(y_test, y_pred))\n",
        "    print(\"ROC AUC:\", roc_auc_score(y_test, y_proba))\n",
        "    print(classification_report(y_test, y_pred, target_names=[\"Class 0\", \"Class 1\"]))\n"
      ]
    }
  ]
}