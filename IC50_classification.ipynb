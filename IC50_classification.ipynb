{
  "nbformat": 4,
  "nbformat_minor": 0,
  "metadata": {
    "colab": {
      "provenance": [],
      "authorship_tag": "ABX9TyMyomW7nclmew55FMFZSiuD",
      "include_colab_link": true
    },
    "kernelspec": {
      "name": "python3",
      "display_name": "Python 3"
    },
    "language_info": {
      "name": "python"
    }
  },
  "cells": [
    {
      "cell_type": "markdown",
      "metadata": {
        "id": "view-in-github",
        "colab_type": "text"
      },
      "source": [
        "<a href=\"https://colab.research.google.com/github/ttk66/Chem_analyzis/blob/main/IC50_classification.ipynb\" target=\"_parent\"><img src=\"https://colab.research.google.com/assets/colab-badge.svg\" alt=\"Open In Colab\"/></a>"
      ]
    },
    {
      "cell_type": "code",
      "execution_count": 2,
      "metadata": {
        "colab": {
          "base_uri": "https://localhost:8080/"
        },
        "id": "IK30SQ3Vky7x",
        "outputId": "bc57bd24-fae9-489e-81ef-7221a3aec137"
      },
      "outputs": [
        {
          "output_type": "stream",
          "name": "stdout",
          "text": [
            "\n",
            "Задача: log_IC50 > median, Модель: Logistic Regression\n",
            "Accuracy: 0.7014925373134329\n",
            "Precision: 0.7156862745098039\n",
            "Recall: 0.7019230769230769\n",
            "F1 Score: 0.7087378640776699\n",
            "ROC AUC: 0.7570876288659794\n",
            "              precision    recall  f1-score   support\n",
            "\n",
            "     Class 0       0.69      0.70      0.69        97\n",
            "     Class 1       0.72      0.70      0.71       104\n",
            "\n",
            "    accuracy                           0.70       201\n",
            "   macro avg       0.70      0.70      0.70       201\n",
            "weighted avg       0.70      0.70      0.70       201\n",
            "\n",
            "\n",
            "Задача: log_IC50 > median, Модель: Random Forest\n",
            "Accuracy: 0.7412935323383084\n",
            "Precision: 0.782608695652174\n",
            "Recall: 0.6923076923076923\n",
            "F1 Score: 0.7346938775510204\n",
            "ROC AUC: 0.7856363996827914\n",
            "              precision    recall  f1-score   support\n",
            "\n",
            "     Class 0       0.71      0.79      0.75        97\n",
            "     Class 1       0.78      0.69      0.73       104\n",
            "\n",
            "    accuracy                           0.74       201\n",
            "   macro avg       0.74      0.74      0.74       201\n",
            "weighted avg       0.75      0.74      0.74       201\n",
            "\n",
            "\n",
            "Задача: log_IC50 > median, Модель: XGBoost\n",
            "Accuracy: 0.6915422885572139\n",
            "Precision: 0.71875\n",
            "Recall: 0.6634615384615384\n",
            "F1 Score: 0.69\n",
            "ROC AUC: 0.7627379064234734\n",
            "              precision    recall  f1-score   support\n",
            "\n",
            "     Class 0       0.67      0.72      0.69        97\n",
            "     Class 1       0.72      0.66      0.69       104\n",
            "\n",
            "    accuracy                           0.69       201\n",
            "   macro avg       0.69      0.69      0.69       201\n",
            "weighted avg       0.69      0.69      0.69       201\n",
            "\n"
          ]
        }
      ],
      "source": [
        "import pandas as pd\n",
        "import numpy as np\n",
        "from sklearn.model_selection import train_test_split\n",
        "from sklearn.preprocessing import StandardScaler\n",
        "from sklearn.metrics import (\n",
        "    accuracy_score, precision_score, recall_score, f1_score, roc_auc_score, classification_report\n",
        ")\n",
        "from sklearn.linear_model import LogisticRegression\n",
        "from sklearn.ensemble import RandomForestClassifier\n",
        "from xgboost import XGBClassifier\n",
        "\n",
        "import warnings\n",
        "warnings.filterwarnings(\"ignore\")\n",
        "\n",
        "# Загрузка данных\n",
        "df = pd.read_csv(\"final_filtered_data.csv\")\n",
        "df.fillna(df.median(numeric_only=True), inplace=True)\n",
        "\n",
        "# Подготовка данных\n",
        "target = (df[\"log_IC50\"] > df[\"log_IC50\"].median()).astype(int)\n",
        "feature_cols = df.select_dtypes(include=[np.number]).drop(columns=[\"IC50\", \"CC50\", \"SI\", \"log_IC50\", \"log_CC50\", \"log_SI\"]).columns\n",
        "X = df[feature_cols]\n",
        "\n",
        "scaler = StandardScaler()\n",
        "X_scaled = scaler.fit_transform(X)\n",
        "\n",
        "X_train, X_test, y_train, y_test = train_test_split(X_scaled, target, test_size=0.2, random_state=42)\n",
        "\n",
        "models = {\n",
        "    \"Logistic Regression\": LogisticRegression(),\n",
        "    \"Random Forest\": RandomForestClassifier(random_state=42),\n",
        "    \"XGBoost\": XGBClassifier(use_label_encoder=False, eval_metric='logloss', random_state=42)\n",
        "}\n",
        "\n",
        "for model_name, model in models.items():\n",
        "    model.fit(X_train, y_train)\n",
        "    y_pred = model.predict(X_test)\n",
        "    y_proba = model.predict_proba(X_test)[:, 1] if hasattr(model, \"predict_proba\") else y_pred\n",
        "\n",
        "    print(f\"\\nЗадача: log_IC50 > median, Модель: {model_name}\")\n",
        "    print(\"Accuracy:\", accuracy_score(y_test, y_pred))\n",
        "    print(\"Precision:\", precision_score(y_test, y_pred))\n",
        "    print(\"Recall:\", recall_score(y_test, y_pred))\n",
        "    print(\"F1 Score:\", f1_score(y_test, y_pred))\n",
        "    print(\"ROC AUC:\", roc_auc_score(y_test, y_proba))\n",
        "    print(classification_report(y_test, y_pred, target_names=[\"Class 0\", \"Class 1\"]))\n"
      ]
    }
  ]
}