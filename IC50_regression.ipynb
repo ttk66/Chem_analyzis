{
  "nbformat": 4,
  "nbformat_minor": 0,
  "metadata": {
    "colab": {
      "provenance": [],
      "authorship_tag": "ABX9TyOWInu1ypfAF0kppz0NDINz",
      "include_colab_link": true
    },
    "kernelspec": {
      "name": "python3",
      "display_name": "Python 3"
    },
    "language_info": {
      "name": "python"
    }
  },
  "cells": [
    {
      "cell_type": "markdown",
      "metadata": {
        "id": "view-in-github",
        "colab_type": "text"
      },
      "source": [
        "<a href=\"https://colab.research.google.com/github/ttk66/Chem_analyzis/blob/main/IC50_regression.ipynb\" target=\"_parent\"><img src=\"https://colab.research.google.com/assets/colab-badge.svg\" alt=\"Open In Colab\"/></a>"
      ]
    },
    {
      "cell_type": "code",
      "execution_count": 4,
      "metadata": {
        "colab": {
          "base_uri": "https://localhost:8080/"
        },
        "id": "VjvAnfVcetds",
        "outputId": "4127ea8e-1e8d-4c71-a4a0-8531d551d691"
      },
      "outputs": [
        {
          "output_type": "stream",
          "name": "stdout",
          "text": [
            "\n",
            "Linear Regression\n",
            "RMSE: 803.6374023766025\n",
            "R²: -0.9361871321967032\n",
            "\n",
            "Random Forest\n",
            "RMSE: 471.2652882829551\n",
            "R²: 0.3341782899831691\n",
            "\n",
            "XGBoost\n",
            "RMSE: 459.89810438498756\n",
            "R²: 0.3659109023902146\n"
          ]
        }
      ],
      "source": [
        "import pandas as pd\n",
        "import numpy as np\n",
        "from sklearn.model_selection import train_test_split\n",
        "from sklearn.preprocessing import StandardScaler\n",
        "from sklearn.linear_model import LinearRegression\n",
        "from sklearn.ensemble import RandomForestRegressor\n",
        "from xgboost import XGBRegressor\n",
        "from sklearn.metrics import mean_squared_error, r2_score\n",
        "\n",
        "df = pd.read_csv(\"/content/final_filtered_data.csv\")\n",
        "\n",
        "X = df.drop(columns=[\"IC50\", \"CC50\", \"SI\", \"log_IC50\", \"log_CC50\", \"log_SI\"])\n",
        "y = df[\"log_IC50\"]\n",
        "\n",
        "X_scaled = StandardScaler().fit_transform(X)\n",
        "X_train, X_test, y_train, y_test = train_test_split(X_scaled, y, test_size=0.2, random_state=42)\n",
        "\n",
        "models = {\n",
        "    \"Linear Regression\": LinearRegression(),\n",
        "    \"Random Forest\": RandomForestRegressor(random_state=42),\n",
        "    \"XGBoost\": XGBRegressor(random_state=42)\n",
        "}\n",
        "\n",
        "for name, model in models.items():\n",
        "    model.fit(X_train, y_train)\n",
        "    y_pred_log = model.predict(X_test)\n",
        "    y_pred = np.expm1(y_pred_log)  # обратное преобразование\n",
        "    y_test_orig = np.expm1(y_test)\n",
        "    print(f\"\\n{name}\")\n",
        "    print(\"RMSE:\", np.sqrt(mean_squared_error(y_test_orig, y_pred)))\n",
        "    print(\"R²:\", r2_score(y_test_orig, y_pred))"
      ]
    }
  ]
}